{
  "nbformat": 4,
  "nbformat_minor": 0,
  "metadata": {
    "colab": {
      "name": "Handson-Chapter2",
      "provenance": [],
      "collapsed_sections": [],
      "authorship_tag": "ABX9TyNK1Gtce+qE1wApwRqI822t",
      "include_colab_link": true
    },
    "kernelspec": {
      "name": "python3",
      "display_name": "Python 3"
    }
  },
  "cells": [
    {
      "cell_type": "markdown",
      "metadata": {
        "id": "view-in-github",
        "colab_type": "text"
      },
      "source": [
        "<a href=\"https://colab.research.google.com/github/apoorvyadav1111/Oreilly_Handson_Machine_learning_book/blob/main/Handson_Chapter2.ipynb\" target=\"_parent\"><img src=\"https://colab.research.google.com/assets/colab-badge.svg\" alt=\"Open In Colab\"/></a>"
      ]
    },
    {
      "cell_type": "code",
      "metadata": {
        "id": "J-zjurQwVU-4"
      },
      "source": [
        "import os\n",
        "import tarfile\n",
        "import urllib.request\n",
        "\n",
        "DOWNLOAD_ROOT = \"https://raw.githubusercontent.com/ageron/handson-ml2/master/\"\n",
        "HOUSING_PATH = os.path.join(\"datasets\", \"housing\")\n",
        "HOUSING_URL = DOWNLOAD_ROOT + \"datasets/housing/housing.tgz\"\n",
        "\n",
        "def fetch_housing_data(housing_url=HOUSING_URL, housing_path=HOUSING_PATH):\n",
        "    os.makedirs(housing_path, exist_ok=True)\n",
        "    tgz_path = os.path.join(housing_path, \"housing.tgz\")\n",
        "    urllib.request.urlretrieve(housing_url, tgz_path)\n",
        "    housing_tgz = tarfile.open(tgz_path)\n",
        "    housing_tgz.extractall(path=housing_path)\n",
        "    housing_tgz.close()"
      ],
      "execution_count": null,
      "outputs": []
    },
    {
      "cell_type": "code",
      "metadata": {
        "id": "Dxc9DTJBSyE3"
      },
      "source": [
        "fetch_housing_data()\n",
        "import pandas as pd\n",
        "import numpy as np\n",
        "import matplotlib.pyplot as plt\n",
        "import sklearn.linear_model\n",
        "import seaborn as sns\n",
        "\n",
        "from sklearn.model_selection import StratifiedShuffleSplit,train_test_split\n",
        "\n",
        "from zlib import crc32\n",
        "sns.set()"
      ],
      "execution_count": null,
      "outputs": []
    },
    {
      "cell_type": "code",
      "metadata": {
        "id": "UEPREGBharBD"
      },
      "source": [
        "def load_housing_data(housing_path=HOUSING_PATH):\n",
        "    csv_path = os.path.join(housing_path, \"housing.csv\")\n",
        "    return pd.read_csv(csv_path)\n",
        "df = load_housing_data()\n",
        "df.head()\n",
        "housing = df.copy(deep=True)"
      ],
      "execution_count": null,
      "outputs": []
    },
    {
      "cell_type": "code",
      "metadata": {
        "id": "DKMwPb_QorUV"
      },
      "source": [
        "#cleaning a bit\n",
        "#df.dropna(inplace=True)\n",
        "df = df.loc[df.median_house_value<500000]"
      ],
      "execution_count": null,
      "outputs": []
    },
    {
      "cell_type": "code",
      "metadata": {
        "id": "aQXfjXZOazIN",
        "outputId": "bb4b2b25-3d03-4a16-da43-5ccd6eeb89f7",
        "colab": {
          "base_uri": "https://localhost:8080/",
          "height": 226
        }
      },
      "source": [
        "df = load_housing_data()\n",
        "df.head()"
      ],
      "execution_count": null,
      "outputs": [
        {
          "output_type": "execute_result",
          "data": {
            "text/html": [
              "<div>\n",
              "<style scoped>\n",
              "    .dataframe tbody tr th:only-of-type {\n",
              "        vertical-align: middle;\n",
              "    }\n",
              "\n",
              "    .dataframe tbody tr th {\n",
              "        vertical-align: top;\n",
              "    }\n",
              "\n",
              "    .dataframe thead th {\n",
              "        text-align: right;\n",
              "    }\n",
              "</style>\n",
              "<table border=\"1\" class=\"dataframe\">\n",
              "  <thead>\n",
              "    <tr style=\"text-align: right;\">\n",
              "      <th></th>\n",
              "      <th>longitude</th>\n",
              "      <th>latitude</th>\n",
              "      <th>housing_median_age</th>\n",
              "      <th>total_rooms</th>\n",
              "      <th>total_bedrooms</th>\n",
              "      <th>population</th>\n",
              "      <th>households</th>\n",
              "      <th>median_income</th>\n",
              "      <th>median_house_value</th>\n",
              "      <th>ocean_proximity</th>\n",
              "    </tr>\n",
              "  </thead>\n",
              "  <tbody>\n",
              "    <tr>\n",
              "      <th>0</th>\n",
              "      <td>-122.23</td>\n",
              "      <td>37.88</td>\n",
              "      <td>41.0</td>\n",
              "      <td>880.0</td>\n",
              "      <td>129.0</td>\n",
              "      <td>322.0</td>\n",
              "      <td>126.0</td>\n",
              "      <td>8.3252</td>\n",
              "      <td>452600.0</td>\n",
              "      <td>NEAR BAY</td>\n",
              "    </tr>\n",
              "    <tr>\n",
              "      <th>1</th>\n",
              "      <td>-122.22</td>\n",
              "      <td>37.86</td>\n",
              "      <td>21.0</td>\n",
              "      <td>7099.0</td>\n",
              "      <td>1106.0</td>\n",
              "      <td>2401.0</td>\n",
              "      <td>1138.0</td>\n",
              "      <td>8.3014</td>\n",
              "      <td>358500.0</td>\n",
              "      <td>NEAR BAY</td>\n",
              "    </tr>\n",
              "    <tr>\n",
              "      <th>2</th>\n",
              "      <td>-122.24</td>\n",
              "      <td>37.85</td>\n",
              "      <td>52.0</td>\n",
              "      <td>1467.0</td>\n",
              "      <td>190.0</td>\n",
              "      <td>496.0</td>\n",
              "      <td>177.0</td>\n",
              "      <td>7.2574</td>\n",
              "      <td>352100.0</td>\n",
              "      <td>NEAR BAY</td>\n",
              "    </tr>\n",
              "    <tr>\n",
              "      <th>3</th>\n",
              "      <td>-122.25</td>\n",
              "      <td>37.85</td>\n",
              "      <td>52.0</td>\n",
              "      <td>1274.0</td>\n",
              "      <td>235.0</td>\n",
              "      <td>558.0</td>\n",
              "      <td>219.0</td>\n",
              "      <td>5.6431</td>\n",
              "      <td>341300.0</td>\n",
              "      <td>NEAR BAY</td>\n",
              "    </tr>\n",
              "    <tr>\n",
              "      <th>4</th>\n",
              "      <td>-122.25</td>\n",
              "      <td>37.85</td>\n",
              "      <td>52.0</td>\n",
              "      <td>1627.0</td>\n",
              "      <td>280.0</td>\n",
              "      <td>565.0</td>\n",
              "      <td>259.0</td>\n",
              "      <td>3.8462</td>\n",
              "      <td>342200.0</td>\n",
              "      <td>NEAR BAY</td>\n",
              "    </tr>\n",
              "  </tbody>\n",
              "</table>\n",
              "</div>"
            ],
            "text/plain": [
              "   longitude  latitude  ...  median_house_value  ocean_proximity\n",
              "0    -122.23     37.88  ...            452600.0         NEAR BAY\n",
              "1    -122.22     37.86  ...            358500.0         NEAR BAY\n",
              "2    -122.24     37.85  ...            352100.0         NEAR BAY\n",
              "3    -122.25     37.85  ...            341300.0         NEAR BAY\n",
              "4    -122.25     37.85  ...            342200.0         NEAR BAY\n",
              "\n",
              "[5 rows x 10 columns]"
            ]
          },
          "metadata": {
            "tags": []
          },
          "execution_count": 5
        }
      ]
    },
    {
      "cell_type": "code",
      "metadata": {
        "id": "nHO9MqQ6a2FD"
      },
      "source": [
        "np.random.seed(42)\n",
        "def split_train_test(data,test_ratio=0.2):\n",
        "  shuffled_indices = np.random.permutation(len(data))\n",
        "  test_size = int(len(data)*test_ratio)\n",
        "  test_indices = shuffled_indices[:test_size]\n",
        "  train_indices = shuffled_indices[test_size:]\n",
        "\n",
        "  return data.iloc[train_indices],data.iloc[test_indices]"
      ],
      "execution_count": null,
      "outputs": []
    },
    {
      "cell_type": "code",
      "metadata": {
        "id": "icIYhlZXXI67",
        "outputId": "78995390-127f-4bd0-a855-099803996671",
        "colab": {
          "base_uri": "https://localhost:8080/",
          "height": 34
        }
      },
      "source": [
        "train,test = split_train_test(df)\n",
        "print(len(train),len(test))"
      ],
      "execution_count": null,
      "outputs": [
        {
          "output_type": "stream",
          "text": [
            "16512 4128\n"
          ],
          "name": "stdout"
        }
      ]
    },
    {
      "cell_type": "code",
      "metadata": {
        "id": "ng9f4bj3jSIk"
      },
      "source": [
        "def check_test_set(id,test_ratio):\n",
        "  return crc32(np.int64(id)) & 0xffffffff < test_ratio * 2**32\n",
        "def split_train_test_by_id(data,test_size,id):\n",
        "  ids = data[id]\n",
        "  in_test = ids.apply(lambda x:check_test_set(x,test_size))\n",
        "  return data.loc[~in_test],data.loc[in_test]"
      ],
      "execution_count": null,
      "outputs": []
    },
    {
      "cell_type": "code",
      "metadata": {
        "id": "ZQtxud0omL6I"
      },
      "source": [
        "df_with_id = df.copy(deep=True)\n",
        "df_with_id['id'] = df['latitude'] + 1000*df['longitude']\n",
        "train,test = split_train_test_by_id(df_with_id,0.2,\"id\")"
      ],
      "execution_count": null,
      "outputs": []
    },
    {
      "cell_type": "code",
      "metadata": {
        "id": "MhE9uCmqm47F",
        "outputId": "000dca1b-9f1d-4e50-d9f9-a1af86c25c01",
        "colab": {
          "base_uri": "https://localhost:8080/",
          "height": 34
        }
      },
      "source": [
        "print(len(train),len(test))"
      ],
      "execution_count": null,
      "outputs": [
        {
          "output_type": "stream",
          "text": [
            "16322 4318\n"
          ],
          "name": "stdout"
        }
      ]
    },
    {
      "cell_type": "code",
      "metadata": {
        "id": "e_mytaS4nBst",
        "outputId": "149a0123-0288-44d0-e114-5c34dc84d1a4",
        "colab": {
          "base_uri": "https://localhost:8080/",
          "height": 633
        }
      },
      "source": [
        "df.hist(bins=50,figsize=(20,15))\n",
        "plt.show()"
      ],
      "execution_count": null,
      "outputs": [
        {
          "output_type": "display_data",
          "data": {
            "image/png": "[encoded data removed]",
            "text/plain": [
              "<Figure size 1440x1080 with 9 Axes>"
            ]
          },
          "metadata": {
            "tags": []
          }
        }
      ]
    },
    {
      "cell_type": "code",
      "metadata": {
        "id": "Q_CwN_JuphI4",
        "outputId": "ae040dc5-9a7a-4806-c1e5-01587cf3cae8",
        "colab": {
          "base_uri": "https://localhost:8080/",
          "height": 34
        }
      },
      "source": [
        "len(df)"
      ],
      "execution_count": null,
      "outputs": [
        {
          "output_type": "execute_result",
          "data": {
            "text/plain": [
              "20640"
            ]
          },
          "metadata": {
            "tags": []
          },
          "execution_count": 12
        }
      ]
    },
    {
      "cell_type": "markdown",
      "metadata": {
        "id": "YF3ghL-ops2c"
      },
      "source": [
        "### We can split data using existing module in sklearn"
      ]
    },
    {
      "cell_type": "code",
      "metadata": {
        "id": "mRBxXPYQpimX"
      },
      "source": [
        "from sklearn.model_selection import train_test_split\n",
        "train,test = train_test_split(df,test_size=0.2,random_state=42)"
      ],
      "execution_count": null,
      "outputs": []
    },
    {
      "cell_type": "code",
      "metadata": {
        "id": "loLeB0rRp9va",
        "outputId": "b8bdc6fa-beb7-470a-f282-8caafdeee9be",
        "colab": {
          "base_uri": "https://localhost:8080/",
          "height": 34
        }
      },
      "source": [
        "print(len(train),len(test))"
      ],
      "execution_count": null,
      "outputs": [
        {
          "output_type": "stream",
          "text": [
            "16512 4128\n"
          ],
          "name": "stdout"
        }
      ]
    },
    {
      "cell_type": "markdown",
      "metadata": {
        "id": "pjgnguvH0lD1"
      },
      "source": [
        "### Spliting using strata i.e StratafiedSplit"
      ]
    },
    {
      "cell_type": "code",
      "metadata": {
        "id": "KVjuOf5hy5iq"
      },
      "source": [
        "df['income_category'] = pd.cut(df['median_income'],bins=[0,1.5,3.0,4.5,6.0,np.inf],labels=[1,2,3,4,5])"
      ],
      "execution_count": null,
      "outputs": []
    },
    {
      "cell_type": "code",
      "metadata": {
        "id": "J_L_oIVRqIjY",
        "outputId": "ebe5070e-0740-49a7-c341-f465535e3092",
        "colab": {
          "base_uri": "https://localhost:8080/",
          "height": 322
        }
      },
      "source": [
        "df['income_category'].hist(bins=50,figsize=(10,5))\n",
        "plt.show()"
      ],
      "execution_count": null,
      "outputs": [
        {
          "output_type": "display_data",
          "data": {
            "image/png": "[encoded data removed]",
            "text/plain": [
              "<Figure size 720x360 with 1 Axes>"
            ]
          },
          "metadata": {
            "tags": []
          }
        }
      ]
    },
    {
      "cell_type": "code",
      "metadata": {
        "id": "5cSiucNhxZLW"
      },
      "source": [
        "split = StratifiedShuffleSplit(n_splits=1,test_size=0.2,random_state=42)\n",
        "\n",
        "for train_idx,test_idx in split.split(df,df['income_category']):\n",
        "  strat_train_set = df.iloc[train_idx]\n",
        "  strat_test_set = df.iloc[test_idx]"
      ],
      "execution_count": null,
      "outputs": []
    },
    {
      "cell_type": "code",
      "metadata": {
        "id": "SijBdBZA3RpR",
        "outputId": "765e437f-74d0-4b17-a516-841547411ea9",
        "colab": {
          "base_uri": "https://localhost:8080/",
          "height": 124
        }
      },
      "source": [
        "strat_train_set.drop('income_category',axis=1,inplace=True)\n",
        "strat_test_set.drop('income_category',axis=1,inplace=True)"
      ],
      "execution_count": null,
      "outputs": [
        {
          "output_type": "stream",
          "text": [
            "/usr/local/lib/python3.6/dist-packages/pandas/core/frame.py:3997: SettingWithCopyWarning: \n",
            "A value is trying to be set on a copy of a slice from a DataFrame\n",
            "\n",
            "See the caveats in the documentation: https://pandas.pydata.org/pandas-docs/stable/user_guide/indexing.html#returning-a-view-versus-a-copy\n",
            "  errors=errors,\n"
          ],
          "name": "stderr"
        }
      ]
    },
    {
      "cell_type": "code",
      "metadata": {
        "id": "VvGJ30G45FM-",
        "outputId": "d26ef43a-6091-4a2f-d4ca-11b1ee90de60",
        "colab": {
          "base_uri": "https://localhost:8080/",
          "height": 226
        }
      },
      "source": [
        "strat_test_set.head()"
      ],
      "execution_count": null,
      "outputs": [
        {
          "output_type": "execute_result",
          "data": {
            "text/html": [
              "<div>\n",
              "<style scoped>\n",
              "    .dataframe tbody tr th:only-of-type {\n",
              "        vertical-align: middle;\n",
              "    }\n",
              "\n",
              "    .dataframe tbody tr th {\n",
              "        vertical-align: top;\n",
              "    }\n",
              "\n",
              "    .dataframe thead th {\n",
              "        text-align: right;\n",
              "    }\n",
              "</style>\n",
              "<table border=\"1\" class=\"dataframe\">\n",
              "  <thead>\n",
              "    <tr style=\"text-align: right;\">\n",
              "      <th></th>\n",
              "      <th>longitude</th>\n",
              "      <th>latitude</th>\n",
              "      <th>housing_median_age</th>\n",
              "      <th>total_rooms</th>\n",
              "      <th>total_bedrooms</th>\n",
              "      <th>population</th>\n",
              "      <th>households</th>\n",
              "      <th>median_income</th>\n",
              "      <th>median_house_value</th>\n",
              "      <th>ocean_proximity</th>\n",
              "    </tr>\n",
              "  </thead>\n",
              "  <tbody>\n",
              "    <tr>\n",
              "      <th>5241</th>\n",
              "      <td>-118.39</td>\n",
              "      <td>34.12</td>\n",
              "      <td>29.0</td>\n",
              "      <td>6447.0</td>\n",
              "      <td>1012.0</td>\n",
              "      <td>2184.0</td>\n",
              "      <td>960.0</td>\n",
              "      <td>8.2816</td>\n",
              "      <td>500001.0</td>\n",
              "      <td>&lt;1H OCEAN</td>\n",
              "    </tr>\n",
              "    <tr>\n",
              "      <th>10970</th>\n",
              "      <td>-117.86</td>\n",
              "      <td>33.77</td>\n",
              "      <td>39.0</td>\n",
              "      <td>4159.0</td>\n",
              "      <td>655.0</td>\n",
              "      <td>1669.0</td>\n",
              "      <td>651.0</td>\n",
              "      <td>4.6111</td>\n",
              "      <td>240300.0</td>\n",
              "      <td>&lt;1H OCEAN</td>\n",
              "    </tr>\n",
              "    <tr>\n",
              "      <th>20351</th>\n",
              "      <td>-119.05</td>\n",
              "      <td>34.21</td>\n",
              "      <td>27.0</td>\n",
              "      <td>4357.0</td>\n",
              "      <td>926.0</td>\n",
              "      <td>2110.0</td>\n",
              "      <td>876.0</td>\n",
              "      <td>3.0119</td>\n",
              "      <td>218200.0</td>\n",
              "      <td>&lt;1H OCEAN</td>\n",
              "    </tr>\n",
              "    <tr>\n",
              "      <th>6568</th>\n",
              "      <td>-118.15</td>\n",
              "      <td>34.20</td>\n",
              "      <td>52.0</td>\n",
              "      <td>1786.0</td>\n",
              "      <td>306.0</td>\n",
              "      <td>1018.0</td>\n",
              "      <td>322.0</td>\n",
              "      <td>4.1518</td>\n",
              "      <td>182100.0</td>\n",
              "      <td>INLAND</td>\n",
              "    </tr>\n",
              "    <tr>\n",
              "      <th>13285</th>\n",
              "      <td>-117.68</td>\n",
              "      <td>34.07</td>\n",
              "      <td>32.0</td>\n",
              "      <td>1775.0</td>\n",
              "      <td>314.0</td>\n",
              "      <td>1067.0</td>\n",
              "      <td>302.0</td>\n",
              "      <td>4.0375</td>\n",
              "      <td>121300.0</td>\n",
              "      <td>INLAND</td>\n",
              "    </tr>\n",
              "  </tbody>\n",
              "</table>\n",
              "</div>"
            ],
            "text/plain": [
              "       longitude  latitude  ...  median_house_value  ocean_proximity\n",
              "5241     -118.39     34.12  ...            500001.0        <1H OCEAN\n",
              "10970    -117.86     33.77  ...            240300.0        <1H OCEAN\n",
              "20351    -119.05     34.21  ...            218200.0        <1H OCEAN\n",
              "6568     -118.15     34.20  ...            182100.0           INLAND\n",
              "13285    -117.68     34.07  ...            121300.0           INLAND\n",
              "\n",
              "[5 rows x 10 columns]"
            ]
          },
          "metadata": {
            "tags": []
          },
          "execution_count": 19
        }
      ]
    },
    {
      "cell_type": "markdown",
      "metadata": {
        "id": "VFFJyN1HxeWG"
      },
      "source": [
        "### Let's do some EDA"
      ]
    },
    {
      "cell_type": "code",
      "metadata": {
        "id": "d1vf8cNQ5KvR"
      },
      "source": [
        "housing = strat_train_set.drop(\"median_house_value\", axis=1)\n",
        "housing_labels = strat_train_set[\"median_house_value\"].copy()"
      ],
      "execution_count": null,
      "outputs": []
    },
    {
      "cell_type": "code",
      "metadata": {
        "id": "D7pvL5lCxr9N",
        "outputId": "4ee1d54e-6835-4336-a61d-48fdfa8d07e1",
        "colab": {
          "base_uri": "https://localhost:8080/",
          "height": 340
        }
      },
      "source": [
        "housing.plot(kind='scatter',x='longitude',y='latitude',alpha=0.1)"
      ],
      "execution_count": null,
      "outputs": [
        {
          "output_type": "stream",
          "text": [
            "*c* argument looks like a single numeric RGB or RGBA sequence, which should be avoided as value-mapping will have precedence in case its length matches with *x* & *y*.  Please use the *color* keyword-argument or provide a 2-D array with a single row if you intend to specify the same RGB or RGBA value for all points.\n"
          ],
          "name": "stderr"
        },
        {
          "output_type": "execute_result",
          "data": {
            "text/plain": [
              "<matplotlib.axes._subplots.AxesSubplot at 0x7fe3a53aa780>"
            ]
          },
          "metadata": {
            "tags": []
          },
          "execution_count": 21
        },
        {
          "output_type": "display_data",
          "data": {
            "image/png": "[encoded data removed]",
            "text/plain": [
              "<Figure size 432x288 with 1 Axes>"
            ]
          },
          "metadata": {
            "tags": []
          }
        }
      ]
    },
    {
      "cell_type": "code",
      "metadata": {
        "id": "NKqwEbvqx9qP",
        "outputId": "afc49fd3-06e0-4800-b73c-981a833ae4c6",
        "colab": {
          "base_uri": "https://localhost:8080/",
          "height": 432
        }
      },
      "source": [
        "housing.plot(kind=\"scatter\",\n",
        "             x=\"longitude\",\n",
        "             y=\"latitude\",\n",
        "             alpha=0.4,\n",
        "             s=housing[\"population\"]/100,\n",
        "             label=\"population\",\n",
        "             figsize=(10,7),\n",
        "             c=\"median_house_value\",\n",
        "             cmap=plt.get_cmap(\"jet\"),\n",
        "             colorbar=True,\n",
        "             )\n",
        "plt.legend()"
      ],
      "execution_count": null,
      "outputs": [
        {
          "output_type": "execute_result",
          "data": {
            "text/plain": [
              "<matplotlib.legend.Legend at 0x7fe3a5278780>"
            ]
          },
          "metadata": {
            "tags": []
          },
          "execution_count": 22
        },
        {
          "output_type": "display_data",
          "data": {
            "image/png": "[encoded data removed]",
            "text/plain": [
              "<Figure size 720x504 with 2 Axes>"
            ]
          },
          "metadata": {
            "tags": []
          }
        }
      ]
    },
    {
      "cell_type": "code",
      "metadata": {
        "id": "MPti58PXy5hF"
      },
      "source": [
        "corr_matrix = housing.corr()"
      ],
      "execution_count": null,
      "outputs": []
    },
    {
      "cell_type": "code",
      "metadata": {
        "id": "eHeJCfYkzQxe",
        "outputId": "31029c9e-2525-431f-d0a5-3399a82527f8",
        "colab": {
          "base_uri": "https://localhost:8080/",
          "height": 191
        }
      },
      "source": [
        "corr_matrix[\"median_house_value\"].sort_values(ascending=False)"
      ],
      "execution_count": null,
      "outputs": [
        {
          "output_type": "execute_result",
          "data": {
            "text/plain": [
              "median_house_value    1.000000\n",
              "median_income         0.687160\n",
              "total_rooms           0.135097\n",
              "housing_median_age    0.114110\n",
              "households            0.064506\n",
              "total_bedrooms        0.047689\n",
              "population           -0.026920\n",
              "longitude            -0.047432\n",
              "latitude             -0.142724\n",
              "Name: median_house_value, dtype: float64"
            ]
          },
          "metadata": {
            "tags": []
          },
          "execution_count": 24
        }
      ]
    },
    {
      "cell_type": "markdown",
      "metadata": {
        "id": "qakjki-i_eP0"
      },
      "source": [
        "### Handling missing values\n"
      ]
    },
    {
      "cell_type": "code",
      "metadata": {
        "id": "9ToIligW6evO"
      },
      "source": [
        "housing = strat_train_set.copy(deep=True)"
      ],
      "execution_count": null,
      "outputs": []
    },
    {
      "cell_type": "code",
      "metadata": {
        "id": "JoJ96e681TG8",
        "outputId": "0878f3e0-19e0-45df-f904-c941e38297b4",
        "colab": {
          "base_uri": "https://localhost:8080/",
          "height": 225
        }
      },
      "source": [
        "housing.dropna(subset=[\"total_bedrooms\"]) #option 1 dropping records with na\n",
        "\n",
        "housing.drop(\"total_bedrooms\",axis=1) #option 2 dropping the feature itself\n",
        "\n",
        "median = housing[\"total_bedrooms\"].median() #filling na with median/mean/mode etc\n",
        "housing[\"total_bedrooms\"].fillna(median)"
      ],
      "execution_count": null,
      "outputs": [
        {
          "output_type": "execute_result",
          "data": {
            "text/plain": [
              "0         129.0\n",
              "1        1106.0\n",
              "2         190.0\n",
              "3         235.0\n",
              "4         280.0\n",
              "          ...  \n",
              "20635     374.0\n",
              "20636     150.0\n",
              "20637     485.0\n",
              "20638     409.0\n",
              "20639     616.0\n",
              "Name: total_bedrooms, Length: 20640, dtype: float64"
            ]
          },
          "metadata": {
            "tags": []
          },
          "execution_count": 5
        }
      ]
    },
    {
      "cell_type": "code",
      "metadata": {
        "id": "SK2FHMf0BB4K"
      },
      "source": [
        "##using scikit learn to Impute the values\n",
        "from sklearn.impute import SimpleImputer\n",
        "\n",
        "imputer = SimpleImputer(strategy=\"median\")"
      ],
      "execution_count": null,
      "outputs": []
    },
    {
      "cell_type": "code",
      "metadata": {
        "id": "BwkTgqA6BQs7"
      },
      "source": [
        "housing_num = housing.drop(\"ocean_proximity\",axis=1)"
      ],
      "execution_count": null,
      "outputs": []
    },
    {
      "cell_type": "code",
      "metadata": {
        "id": "mEJc7Cf2CG6Q",
        "outputId": "ced83e03-6411-4802-a1cf-eac450533ab1",
        "colab": {
          "base_uri": "https://localhost:8080/",
          "height": 52
        }
      },
      "source": [
        "imputer.fit(housing_num)"
      ],
      "execution_count": null,
      "outputs": [
        {
          "output_type": "execute_result",
          "data": {
            "text/plain": [
              "SimpleImputer(add_indicator=False, copy=True, fill_value=None,\n",
              "              missing_values=nan, strategy='median', verbose=0)"
            ]
          },
          "metadata": {
            "tags": []
          },
          "execution_count": 8
        }
      ]
    },
    {
      "cell_type": "code",
      "metadata": {
        "id": "VHgKVeCNCQm0",
        "outputId": "13536c09-9e3f-4f9d-deb1-7bdc5ababcce",
        "colab": {
          "base_uri": "https://localhost:8080/",
          "height": 34
        }
      },
      "source": [
        "imputer.statistics_ == housing_num.median().values"
      ],
      "execution_count": null,
      "outputs": [
        {
          "output_type": "execute_result",
          "data": {
            "text/plain": [
              "array([ True,  True,  True,  True,  True,  True,  True,  True,  True])"
            ]
          },
          "metadata": {
            "tags": []
          },
          "execution_count": 9
        }
      ]
    },
    {
      "cell_type": "code",
      "metadata": {
        "id": "WMA26U3JCsNk"
      },
      "source": [
        "X = imputer.transform(housing_num)"
      ],
      "execution_count": null,
      "outputs": []
    },
    {
      "cell_type": "code",
      "metadata": {
        "id": "HEpK_6YGFA4E",
        "outputId": "deedea8b-02ac-45e1-d8a6-e6d7428d0e63",
        "colab": {
          "base_uri": "https://localhost:8080/",
          "height": 34
        }
      },
      "source": [
        "X.shape, housing_num.shape"
      ],
      "execution_count": null,
      "outputs": [
        {
          "output_type": "execute_result",
          "data": {
            "text/plain": [
              "((20640, 9), (20640, 9))"
            ]
          },
          "metadata": {
            "tags": []
          },
          "execution_count": 11
        }
      ]
    },
    {
      "cell_type": "code",
      "metadata": {
        "id": "xP67BvA1FDEB"
      },
      "source": [
        "#now replace this array into original dataset\n",
        "housing_tr = pd.DataFrame(X,\n",
        "                          columns=housing_num.columns,\n",
        "                          index=housing_num.index)"
      ],
      "execution_count": null,
      "outputs": []
    },
    {
      "cell_type": "markdown",
      "metadata": {
        "id": "pYmShyMMxQvp"
      },
      "source": [
        "## Handling Categorical Values"
      ]
    },
    {
      "cell_type": "code",
      "metadata": {
        "id": "VBKfm8qb5PqZ"
      },
      "source": [
        "from sklearn.preprocessing import OrdinalEncoder,OneHotEncoder\n",
        "from sklearn.impute import SimpleImputer"
      ],
      "execution_count": null,
      "outputs": []
    },
    {
      "cell_type": "code",
      "metadata": {
        "id": "9n33IhmXF-0j"
      },
      "source": [
        "housing_cat = housing[['ocean_proximity']]"
      ],
      "execution_count": null,
      "outputs": []
    },
    {
      "cell_type": "code",
      "metadata": {
        "id": "PmldbvsPxaVw",
        "outputId": "8670a30f-2751-4cb0-bb1c-5825ba689c2e",
        "colab": {
          "base_uri": "https://localhost:8080/",
          "height": 191
        }
      },
      "source": [
        "from sklearn.preprocessing import OrdinalEncoder\n",
        "ordinal_encoder = OrdinalEncoder()\n",
        "housing_cat_encoded = ordinal_encoder.fit_transform(housing_cat)\n",
        "housing_cat_encoded[:10]"
      ],
      "execution_count": null,
      "outputs": [
        {
          "output_type": "execute_result",
          "data": {
            "text/plain": [
              "array([[3.],\n",
              "       [3.],\n",
              "       [3.],\n",
              "       [3.],\n",
              "       [3.],\n",
              "       [3.],\n",
              "       [3.],\n",
              "       [3.],\n",
              "       [3.],\n",
              "       [3.]])"
            ]
          },
          "metadata": {
            "tags": []
          },
          "execution_count": 14
        }
      ]
    },
    {
      "cell_type": "code",
      "metadata": {
        "id": "Y6MJrVDGyAkV",
        "outputId": "c3b4cabf-a431-4b3d-8714-09e42b7c88ca",
        "colab": {
          "base_uri": "https://localhost:8080/",
          "height": 52
        }
      },
      "source": [
        "ordinal_encoder.categories_"
      ],
      "execution_count": null,
      "outputs": [
        {
          "output_type": "execute_result",
          "data": {
            "text/plain": [
              "[array(['<1H OCEAN', 'INLAND', 'ISLAND', 'NEAR BAY', 'NEAR OCEAN'],\n",
              "       dtype=object)]"
            ]
          },
          "metadata": {
            "tags": []
          },
          "execution_count": 15
        }
      ]
    },
    {
      "cell_type": "code",
      "metadata": {
        "id": "BgjXx1geyUL4",
        "outputId": "a49d39da-60a4-4d06-c030-96ed6e8951ed",
        "colab": {
          "base_uri": "https://localhost:8080/",
          "height": 191
        }
      },
      "source": [
        "from sklearn.preprocessing import OneHotEncoder\n",
        "one_hot = OneHotEncoder()\n",
        "housing_cat_1hot = one_hot.fit_transform(housing_cat)\n",
        "housing_cat_1hot[:10].toarray()"
      ],
      "execution_count": null,
      "outputs": [
        {
          "output_type": "execute_result",
          "data": {
            "text/plain": [
              "array([[0., 0., 0., 1., 0.],\n",
              "       [0., 0., 0., 1., 0.],\n",
              "       [0., 0., 0., 1., 0.],\n",
              "       [0., 0., 0., 1., 0.],\n",
              "       [0., 0., 0., 1., 0.],\n",
              "       [0., 0., 0., 1., 0.],\n",
              "       [0., 0., 0., 1., 0.],\n",
              "       [0., 0., 0., 1., 0.],\n",
              "       [0., 0., 0., 1., 0.],\n",
              "       [0., 0., 0., 1., 0.]])"
            ]
          },
          "metadata": {
            "tags": []
          },
          "execution_count": 16
        }
      ]
    },
    {
      "cell_type": "code",
      "metadata": {
        "id": "a9vw5d9sy02V",
        "outputId": "024fd920-9a43-496a-fec4-511e8ea67472",
        "colab": {
          "base_uri": "https://localhost:8080/",
          "height": 52
        }
      },
      "source": [
        "one_hot.categories_"
      ],
      "execution_count": null,
      "outputs": [
        {
          "output_type": "execute_result",
          "data": {
            "text/plain": [
              "[array(['<1H OCEAN', 'INLAND', 'ISLAND', 'NEAR BAY', 'NEAR OCEAN'],\n",
              "       dtype=object)]"
            ]
          },
          "metadata": {
            "tags": []
          },
          "execution_count": 17
        }
      ]
    },
    {
      "cell_type": "code",
      "metadata": {
        "id": "-YP1ZquUlrih"
      },
      "source": [
        "ocean = pd.get_dummies(housing.ocean_proximity)"
      ],
      "execution_count": null,
      "outputs": []
    },
    {
      "cell_type": "code",
      "metadata": {
        "id": "YIHhwfTBn0y8",
        "outputId": "6fe1ca64-058a-41de-c0cb-9fda9f092149",
        "colab": {
          "base_uri": "https://localhost:8080/",
          "height": 34
        }
      },
      "source": [
        "len(ocean),len(housing_tr)"
      ],
      "execution_count": null,
      "outputs": [
        {
          "output_type": "execute_result",
          "data": {
            "text/plain": [
              "(20640, 20640)"
            ]
          },
          "metadata": {
            "tags": []
          },
          "execution_count": 43
        }
      ]
    },
    {
      "cell_type": "code",
      "metadata": {
        "id": "mFCavzgLmotL"
      },
      "source": [
        "housing_processed = pd.concat([housing_tr.reset_index(drop=True),ocean.reset_index(drop=True)],axis=1)"
      ],
      "execution_count": null,
      "outputs": []
    },
    {
      "cell_type": "code",
      "metadata": {
        "id": "HwA80M9Mp1aq",
        "outputId": "b10fc31f-8df9-4b4a-cd68-9e43df581a0a",
        "colab": {
          "base_uri": "https://localhost:8080/",
          "height": 104
        }
      },
      "source": [
        "housing_processed.columns"
      ],
      "execution_count": null,
      "outputs": [
        {
          "output_type": "execute_result",
          "data": {
            "text/plain": [
              "Index(['longitude', 'latitude', 'housing_median_age', 'total_rooms',\n",
              "       'total_bedrooms', 'population', 'households', 'median_income',\n",
              "       'median_house_value', 'ocean proximity', '<1H OCEAN', 'INLAND',\n",
              "       'ISLAND', 'NEAR BAY', 'NEAR OCEAN'],\n",
              "      dtype='object')"
            ]
          },
          "metadata": {
            "tags": []
          },
          "execution_count": 50
        }
      ]
    },
    {
      "cell_type": "code",
      "metadata": {
        "id": "vDiM17mfnu63"
      },
      "source": [
        "housing_processed.drop(columns='ocean proximity',inplace=True)"
      ],
      "execution_count": null,
      "outputs": []
    },
    {
      "cell_type": "code",
      "metadata": {
        "id": "xPWf7ay5vZLy"
      },
      "source": [
        "## Custom Transformer"
      ],
      "execution_count": null,
      "outputs": []
    },
    {
      "cell_type": "code",
      "metadata": {
        "id": "38X7PlXHnw_S"
      },
      "source": [
        "from sklearn.base import BaseEstimator, TransformerMixin\n",
        "from sklearn.preprocessing import OrdinalEncoder,OneHotEncoder\n",
        "from sklearn.impute import SimpleImputer\n",
        "\n",
        "rooms_ix, bedroom_ix, population_ix, household_ix = 3,4,5,6\n",
        "\n",
        "class CombinedAttributesAdder(BaseEstimator,TransformerMixin):\n",
        "  def __init__(self,add_bedrooms_per_room=True):\n",
        "    self.add_bedrooms_per_room = add_bedrooms_per_room\n",
        "  \n",
        "  def fit(self,X,y=None):\n",
        "    return self\n",
        "  \n",
        "  def transform(self,X):\n",
        "    rooms_per_household = X[:,rooms_ix]/X[:,household_ix]\n",
        "    population_per_household = X[:,population_ix]/X[:,household_ix]\n",
        "\n",
        "    if self.add_bedrooms_per_room:\n",
        "      bedrooms_per_room = X[:,bedroom_ix]/X[:,rooms_ix]\n",
        "      return np.c_[X,rooms_per_household,population_per_household,bedrooms_per_room]\n",
        "    else:\n",
        "      return np.c_[X,rooms_per_household,population_per_household]\n",
        "\n",
        "attr_adder = CombinedAttributesAdder(False)\n",
        "housing_extra_attribs = attr_adder.transform(housing.values)"
      ],
      "execution_count": null,
      "outputs": []
    },
    {
      "cell_type": "code",
      "metadata": {
        "id": "pBY8eAotzoKu"
      },
      "source": [
        "## Creating pipeline"
      ],
      "execution_count": null,
      "outputs": []
    },
    {
      "cell_type": "code",
      "metadata": {
        "id": "YcM2wFfj1a9g"
      },
      "source": [
        "from sklearn.pipeline import Pipeline\n",
        "from sklearn.preprocessing import StandardScaler\n",
        "\n",
        "num_pipeline = Pipeline([\n",
        "                         ('imputer',SimpleImputer(strategy='median')),\n",
        "                         ('attribs_adder',CombinedAttributesAdder()),\n",
        "                         ('std_scaler',StandardScaler()),\n",
        "])"
      ],
      "execution_count": null,
      "outputs": []
    },
    {
      "cell_type": "code",
      "metadata": {
        "id": "ekVQneZr14OX"
      },
      "source": [
        "## Using Column Transformer"
      ],
      "execution_count": null,
      "outputs": []
    },
    {
      "cell_type": "code",
      "metadata": {
        "id": "i7rdLQm716_p"
      },
      "source": [
        "from sklearn.compose import ColumnTransformer\n",
        "\n",
        "num_attribs = list(housing_num)\n",
        "cat_attribs = ['ocean_proximity']\n",
        "\n",
        "full_pipeline = ColumnTransformer([\n",
        "                                   ('num',num_pipeline,num_attribs),\n",
        "                                   ('cat',OneHotEncoder(),cat_attribs),\n",
        "])\n",
        "\n",
        "#housing_prepared = full_pipeline.fit_transform(housing)"
      ],
      "execution_count": null,
      "outputs": []
    },
    {
      "cell_type": "code",
      "metadata": {
        "id": "5EavmIUp317I"
      },
      "source": [
        "## Training a model\n",
        "housing_prepared = full_pipeline.fit_transform(housing)"
      ],
      "execution_count": null,
      "outputs": []
    },
    {
      "cell_type": "code",
      "metadata": {
        "id": "q-QfSjnw6UoR",
        "outputId": "6eb3d618-5ccf-4380-df2a-ba7b85968d35",
        "colab": {
          "base_uri": "https://localhost:8080/",
          "height": 34
        }
      },
      "source": [
        "from sklearn.linear_model import LinearRegression\n",
        "\n",
        "lr = LinearRegression()\n",
        "lr.fit(housing_prepared,housing_labels)"
      ],
      "execution_count": null,
      "outputs": [
        {
          "output_type": "execute_result",
          "data": {
            "text/plain": [
              "LinearRegression(copy_X=True, fit_intercept=True, n_jobs=None, normalize=False)"
            ]
          },
          "metadata": {
            "tags": []
          },
          "execution_count": 28
        }
      ]
    },
    {
      "cell_type": "code",
      "metadata": {
        "id": "G_mvWEXD6jHh",
        "outputId": "5cfd1b1b-e93a-4a6c-bec4-5639b8b7d8ea",
        "colab": {
          "base_uri": "https://localhost:8080/",
          "height": 156
        }
      },
      "source": [
        "some_data = housing.iloc[:5]\n",
        "some_labels = housing_labels.iloc[:5]\n",
        "some_data_prepared = full_pipeline.transform(some_data)\n",
        "pred = lr.predict(some_data_prepared)\n",
        "print(pred)\n",
        "print(some_labels)"
      ],
      "execution_count": null,
      "outputs": [
        {
          "output_type": "stream",
          "text": [
            "[296578.83548165 126978.7741049  144704.54733913 200150.88860585\n",
            "  61715.34929007]\n",
            "15077    250000.0\n",
            "15090    112500.0\n",
            "13187    107300.0\n",
            "6790     229300.0\n",
            "12583     78300.0\n",
            "Name: median_house_value, dtype: float64\n"
          ],
          "name": "stdout"
        }
      ]
    },
    {
      "cell_type": "code",
      "metadata": {
        "id": "8YDJSWUdFiK8",
        "outputId": "5169997f-3505-47f4-e0c9-c3ba32db6da0",
        "colab": {
          "base_uri": "https://localhost:8080/",
          "height": 237
        }
      },
      "source": [
        "## measuring the model using RMSE\n",
        "from sklearn.metrics import mean_squared_error\n",
        "pred = lr.predict(housing_prepared)\n",
        "loss = mean_squared_error(housing_labels,pred)\n",
        "loss = np.sqrt(loss)\n",
        "print(loss)"
      ],
      "execution_count": null,
      "outputs": [
        {
          "output_type": "error",
          "ename": "NameError",
          "evalue": "ignored",
          "traceback": [
            "\u001b[0;31m---------------------------------------------------------------------------\u001b[0m",
            "\u001b[0;31mNameError\u001b[0m                                 Traceback (most recent call last)",
            "\u001b[0;32m<ipython-input-24-d6e0bfe529da>\u001b[0m in \u001b[0;36m<module>\u001b[0;34m()\u001b[0m\n\u001b[1;32m      1\u001b[0m \u001b[0;31m## measuring the model using RMSE\u001b[0m\u001b[0;34m\u001b[0m\u001b[0;34m\u001b[0m\u001b[0;34m\u001b[0m\u001b[0m\n\u001b[1;32m      2\u001b[0m \u001b[0;32mfrom\u001b[0m \u001b[0msklearn\u001b[0m\u001b[0;34m.\u001b[0m\u001b[0mmetrics\u001b[0m \u001b[0;32mimport\u001b[0m \u001b[0mmean_squared_error\u001b[0m\u001b[0;34m\u001b[0m\u001b[0;34m\u001b[0m\u001b[0m\n\u001b[0;32m----> 3\u001b[0;31m \u001b[0mpred\u001b[0m \u001b[0;34m=\u001b[0m \u001b[0mlr\u001b[0m\u001b[0;34m.\u001b[0m\u001b[0mpredict\u001b[0m\u001b[0;34m(\u001b[0m\u001b[0mhousing_prepared\u001b[0m\u001b[0;34m)\u001b[0m\u001b[0;34m\u001b[0m\u001b[0;34m\u001b[0m\u001b[0m\n\u001b[0m\u001b[1;32m      4\u001b[0m \u001b[0mloss\u001b[0m \u001b[0;34m=\u001b[0m \u001b[0mmean_squared_error\u001b[0m\u001b[0;34m(\u001b[0m\u001b[0mhousing_labels\u001b[0m\u001b[0;34m,\u001b[0m\u001b[0mpred\u001b[0m\u001b[0;34m)\u001b[0m\u001b[0;34m\u001b[0m\u001b[0;34m\u001b[0m\u001b[0m\n\u001b[1;32m      5\u001b[0m \u001b[0mloss\u001b[0m \u001b[0;34m=\u001b[0m \u001b[0mnp\u001b[0m\u001b[0;34m.\u001b[0m\u001b[0msqrt\u001b[0m\u001b[0;34m(\u001b[0m\u001b[0mloss\u001b[0m\u001b[0;34m)\u001b[0m\u001b[0;34m\u001b[0m\u001b[0;34m\u001b[0m\u001b[0m\n",
            "\u001b[0;31mNameError\u001b[0m: name 'lr' is not defined"
          ]
        }
      ]
    },
    {
      "cell_type": "code",
      "metadata": {
        "id": "rpbHVmLiGCdh",
        "outputId": "e90e3bee-e36d-423b-b342-0401b0f7c67c",
        "colab": {
          "base_uri": "https://localhost:8080/",
          "height": 121
        }
      },
      "source": [
        "from sklearn.tree import DecisionTreeRegressor\n",
        "\n",
        "tree_reg = DecisionTreeRegressor()\n",
        "tree_reg.fit(housing_prepared,housing_labels)"
      ],
      "execution_count": null,
      "outputs": [
        {
          "output_type": "execute_result",
          "data": {
            "text/plain": [
              "DecisionTreeRegressor(ccp_alpha=0.0, criterion='mse', max_depth=None,\n",
              "                      max_features=None, max_leaf_nodes=None,\n",
              "                      min_impurity_decrease=0.0, min_impurity_split=None,\n",
              "                      min_samples_leaf=1, min_samples_split=2,\n",
              "                      min_weight_fraction_leaf=0.0, presort='deprecated',\n",
              "                      random_state=None, splitter='best')"
            ]
          },
          "metadata": {
            "tags": []
          },
          "execution_count": 36
        }
      ]
    },
    {
      "cell_type": "code",
      "metadata": {
        "id": "AZldyLIYIaUL",
        "outputId": "da6b74a2-4f8a-408c-f322-69e6c11c960c",
        "colab": {
          "base_uri": "https://localhost:8080/",
          "height": 34
        }
      },
      "source": [
        "pred_tree = tree_reg.predict(housing_prepared)\n",
        "loss_tree = mean_squared_error(housing_labels,pred_tree)\n",
        "loss_tree = np.sqrt(loss_tree)\n",
        "print(loss_tree)"
      ],
      "execution_count": null,
      "outputs": [
        {
          "output_type": "stream",
          "text": [
            "0.0\n"
          ],
          "name": "stdout"
        }
      ]
    },
    {
      "cell_type": "code",
      "metadata": {
        "id": "k0AjAWIOI6QG"
      },
      "source": [
        "#K folds Validation for tree regressor\n",
        "from sklearn.model_selection import cross_val_score\n",
        "scores = cross_val_score(tree_reg,housing_prepared,housing_labels,scoring=\"neg_mean_squared_error\",cv=10)\n",
        "\n",
        "tree_rmse_scores = np.sqrt(-scores)"
      ],
      "execution_count": null,
      "outputs": []
    },
    {
      "cell_type": "code",
      "metadata": {
        "id": "WWp4t_fVKuyD",
        "outputId": "aa4a34ad-94ae-4264-c40b-789021086566",
        "colab": {
          "base_uri": "https://localhost:8080/",
          "height": 34
        }
      },
      "source": [
        "print(list(map(int,tree_rmse_scores)))"
      ],
      "execution_count": null,
      "outputs": [
        {
          "output_type": "stream",
          "text": [
            "[63362, 67119, 64681, 67931, 64918, 65113, 62996, 62946, 65938, 65095]\n"
          ],
          "name": "stdout"
        }
      ]
    },
    {
      "cell_type": "code",
      "metadata": {
        "id": "Wk7sNFjwK7an",
        "outputId": "0920c017-414a-4fab-a718-3e3a646933d4",
        "colab": {
          "base_uri": "https://localhost:8080/",
          "height": 34
        }
      },
      "source": [
        "#K folds Validation for linear regression\n",
        "lin_scores = cross_val_score(lr,housing_prepared,housing_labels,scoring=\"neg_mean_squared_error\",cv=10)\n",
        "lin_scores = np.sqrt(-lin_scores)\n",
        "print(list(map(int,lin_scores)))"
      ],
      "execution_count": null,
      "outputs": [
        {
          "output_type": "stream",
          "text": [
            "[62396, 61372, 60601, 61878, 55931, 62684, 60108, 58593, 58894, 60975]\n"
          ],
          "name": "stdout"
        }
      ]
    },
    {
      "cell_type": "code",
      "metadata": {
        "id": "G_LNzeujNal9",
        "outputId": "5040eec3-c2f2-47ec-ceec-3dd7856c318a",
        "colab": {
          "base_uri": "https://localhost:8080/",
          "height": 34
        }
      },
      "source": [
        "#both are performing bad\n",
        "from sklearn.ensemble import RandomForestRegressor\n",
        "fr = RandomForestRegressor()\n",
        "fr.fit(housing_prepared,housing_labels)\n",
        "pred = fr.predict(housing_prepared)\n",
        "fr_loss = mean_squared_error(housing_labels,pred)\n",
        "fr_loss = np.sqrt(fr_loss)\n",
        "print(fr_loss)"
      ],
      "execution_count": null,
      "outputs": [
        {
          "output_type": "stream",
          "text": [
            "16750.932990218276\n"
          ],
          "name": "stdout"
        }
      ]
    },
    {
      "cell_type": "code",
      "metadata": {
        "id": "ypJkDOPxOxgi",
        "outputId": "ca8f6480-ccc2-40c9-ec18-eb449b97330f",
        "colab": {
          "base_uri": "https://localhost:8080/",
          "height": 34
        }
      },
      "source": [
        "fr_scores = cross_val_score(fr,housing_prepared,housing_labels,scoring=\"neg_mean_squared_error\",cv=10)\n",
        "fr_scores = np.sqrt(-fr_scores)\n",
        "print(list(map(int,fr_scores)))"
      ],
      "execution_count": null,
      "outputs": [
        {
          "output_type": "stream",
          "text": [
            "[45052, 46251, 45531, 49033, 43382, 45473, 43444, 42973, 45781, 45943]\n"
          ],
          "name": "stdout"
        }
      ]
    },
    {
      "cell_type": "code",
      "metadata": {
        "id": "Tu8by1Oreo-0"
      },
      "source": [
        "##Fine tuning model using Grid Search CV"
      ],
      "execution_count": null,
      "outputs": []
    },
    {
      "cell_type": "code",
      "metadata": {
        "id": "J-HSyLKTPc42",
        "outputId": "701ec282-cdab-43b5-8943-c915c3909064",
        "colab": {
          "base_uri": "https://localhost:8080/",
          "height": 382
        }
      },
      "source": [
        "from sklearn.model_selection import GridSearchCV\n",
        "\n",
        "param_grid = [\n",
        "              {'n_estimators':[3,10,30],'max_features':[2,4,6,8]},\n",
        "              {'bootstrap':[False],'n_estimators':[3,10],'max_features':[2,3,4]},\n",
        "]\n",
        "\n",
        "fr = RandomForestRegressor()\n",
        "grid_search = GridSearchCV(fr,\n",
        "                           param_grid,\n",
        "                           cv=5,\n",
        "                           scoring='neg_mean_squared_error',\n",
        "                           return_train_score=True\n",
        "                           )\n",
        "\n",
        "grid_search.fit(housing_prepared,housing_labels)"
      ],
      "execution_count": null,
      "outputs": [
        {
          "output_type": "execute_result",
          "data": {
            "text/plain": [
              "GridSearchCV(cv=5, error_score=nan,\n",
              "             estimator=RandomForestRegressor(bootstrap=True, ccp_alpha=0.0,\n",
              "                                             criterion='mse', max_depth=None,\n",
              "                                             max_features='auto',\n",
              "                                             max_leaf_nodes=None,\n",
              "                                             max_samples=None,\n",
              "                                             min_impurity_decrease=0.0,\n",
              "                                             min_impurity_split=None,\n",
              "                                             min_samples_leaf=1,\n",
              "                                             min_samples_split=2,\n",
              "                                             min_weight_fraction_leaf=0.0,\n",
              "                                             n_estimators=100, n_jobs=None,\n",
              "                                             oob_score=False, random_state=None,\n",
              "                                             verbose=0, warm_start=False),\n",
              "             iid='deprecated', n_jobs=None,\n",
              "             param_grid=[{'max_features': [2, 4, 6, 8],\n",
              "                          'n_estimators': [3, 10, 30]},\n",
              "                         {'bootstrap': [False], 'max_features': [2, 3, 4],\n",
              "                          'n_estimators': [3, 10]}],\n",
              "             pre_dispatch='2*n_jobs', refit=True, return_train_score=True,\n",
              "             scoring='neg_mean_squared_error', verbose=0)"
            ]
          },
          "metadata": {
            "tags": []
          },
          "execution_count": 133
        }
      ]
    },
    {
      "cell_type": "code",
      "metadata": {
        "id": "_GtOZSLFiZ_N"
      },
      "source": [
        "best_fr = grid_search.best_estimator_"
      ],
      "execution_count": null,
      "outputs": []
    },
    {
      "cell_type": "code",
      "metadata": {
        "id": "GEURwoFiiuo8",
        "outputId": "f5d780d0-61e9-4bcf-9821-0b025c5326a6",
        "colab": {
          "base_uri": "https://localhost:8080/",
          "height": 34
        }
      },
      "source": [
        "pred = grid_search.predict(housing_prepared)\n",
        "new_loss = np.sqrt(mean_squared_error(housing_labels,pred))\n",
        "print(new_loss)"
      ],
      "execution_count": null,
      "outputs": [
        {
          "output_type": "stream",
          "text": [
            "17549.521503463828\n"
          ],
          "name": "stdout"
        }
      ]
    },
    {
      "cell_type": "code",
      "metadata": {
        "id": "0wTl_bjPjBUE",
        "outputId": "222deac0-fc03-4e35-ea9a-eef99dd7663d",
        "colab": {
          "base_uri": "https://localhost:8080/",
          "height": 34
        }
      },
      "source": [
        "##Lets run our model on test set\n",
        "final_model = grid_search.best_estimator_\n",
        "\n",
        "X_test = strat_test_set.drop(columns='median_house_value',axis=1)\n",
        "y_test = strat_test_set['median_house_value'].copy(deep=True)\n",
        "\n",
        "X_test_processed = full_pipeline.transform(X_test)\n",
        "\n",
        "y_pred = final_model.predict(X_test_processed)\n",
        "test_rmse = np.sqrt(mean_squared_error(y_test,y_pred))\n",
        "print(test_rmse)"
      ],
      "execution_count": null,
      "outputs": [
        {
          "output_type": "stream",
          "text": [
            "43614.34568105612\n"
          ],
          "name": "stdout"
        }
      ]
    },
    {
      "cell_type": "markdown",
      "metadata": {
        "id": "ZlFCxTbZ2pUk"
      },
      "source": [
        "## Chapter-2 Exercise\n",
        "### Question 1 \n",
        "Try a Support Vector Machine regressor (sklearn.svm.SVR) with various hyperparameters, \n",
        "such as kernel=\"linear\" (with various values for the C hyperparameter) or kernel=\"rbf\" \n",
        "(with various values for the C and gamma hyperparameters).\n",
        "\n",
        "Don’t worry about what these hyperparameters mean for now. How does the best SVR predictor perform?\n"
      ]
    },
    {
      "cell_type": "code",
      "metadata": {
        "id": "kvNj2KZLm-Y9"
      },
      "source": [
        "from sklearn.model_selection import GridSearchCV,RandomizedSearchCV"
      ],
      "execution_count": null,
      "outputs": []
    },
    {
      "cell_type": "code",
      "metadata": {
        "id": "RC8UaiIu2oE8",
        "outputId": "6f0eba52-abb3-43a9-e19c-31c18990e0e3",
        "colab": {
          "base_uri": "https://localhost:8080/",
          "height": 52
        }
      },
      "source": [
        "from sklearn.svm import SVR\n",
        "\n",
        "svr = SVR()\n",
        "svr.fit(housing_prepared,housing_labels)"
      ],
      "execution_count": null,
      "outputs": [
        {
          "output_type": "execute_result",
          "data": {
            "text/plain": [
              "SVR(C=1.0, cache_size=200, coef0=0.0, degree=3, epsilon=0.1, gamma='scale',\n",
              "    kernel='rbf', max_iter=-1, shrinking=True, tol=0.001, verbose=False)"
            ]
          },
          "metadata": {
            "tags": []
          },
          "execution_count": 121
        }
      ]
    },
    {
      "cell_type": "code",
      "metadata": {
        "id": "d3ah7J1t5LdM",
        "outputId": "b6982a00-642a-4bd2-a14a-a0a74987a0f8",
        "colab": {
          "base_uri": "https://localhost:8080/",
          "height": 34
        }
      },
      "source": [
        "y_pred = svr.predict(housing_prepared)\n",
        "svr_loss = np.sqrt(mean_squared_error(housing_labels,y_pred))\n",
        "print(svr_loss)"
      ],
      "execution_count": null,
      "outputs": [
        {
          "output_type": "stream",
          "text": [
            "98891.72827556646\n"
          ],
          "name": "stdout"
        }
      ]
    },
    {
      "cell_type": "code",
      "metadata": {
        "id": "-a6Rl8507Aa7"
      },
      "source": [
        "svr_params_grid = [\n",
        "                   {'kernel':['linear'],'C':[0.1,1,10]},\n",
        "                   {'kernel':['rbf'],'C':[0.1,1,10],'gamma':[0.1,10,100]},\n",
        "]\n",
        "svr_grid_search = GridSearchCV(svr,\n",
        "                               svr_params_grid,\n",
        "                               cv=5,\n",
        "                               scoring ='neg_mean_squared_error',\n",
        "                               return_train_score=True,\n",
        "                               n_jobs=-1,\n",
        "                               verbose=1)"
      ],
      "execution_count": null,
      "outputs": []
    },
    {
      "cell_type": "code",
      "metadata": {
        "id": "5wYFJcMUATwr"
      },
      "source": [
        "svr_grid_search.fit(housing_prepared,housing_labels)"
      ],
      "execution_count": null,
      "outputs": []
    },
    {
      "cell_type": "code",
      "metadata": {
        "id": "RmP5hflYAX8F"
      },
      "source": [
        ""
      ],
      "execution_count": null,
      "outputs": []
    },
    {
      "cell_type": "markdown",
      "metadata": {
        "id": "3WJow6NMkMl3"
      },
      "source": [
        "### Question 2. \n",
        "\n",
        "Try replacing GridSearchCV with RandomizedSearchCV.\n"
      ]
    },
    {
      "cell_type": "code",
      "metadata": {
        "id": "3hwq4m4QkRu3"
      },
      "source": [
        "from sklearn.model_selection import RandomizedSearchCV\n",
        "\n",
        "svr_random_search = RandomizedSearchCV(svr,\n",
        "                                       svr_params_grid,\n",
        "                                       cv = 5,\n",
        "                                       scoring = 'neg_mean_squared_error',\n",
        "                                       return_train_score=True,\n",
        "                                       verbose=1,\n",
        "                                       n_jobs=-1,\n",
        "                                       n_iter=6\n",
        ")"
      ],
      "execution_count": null,
      "outputs": []
    },
    {
      "cell_type": "code",
      "metadata": {
        "id": "n3RxRaDJl9uw",
        "outputId": "df46604a-fb95-4cdb-baf8-59c5e01549e2",
        "colab": {
          "base_uri": "https://localhost:8080/",
          "height": 312
        }
      },
      "source": [
        "svr_random_search.fit(housing_prepared,housing_labels)"
      ],
      "execution_count": null,
      "outputs": [
        {
          "output_type": "stream",
          "text": [
            "Fitting 5 folds for each of 6 candidates, totalling 30 fits\n"
          ],
          "name": "stdout"
        },
        {
          "output_type": "stream",
          "text": [
            "[Parallel(n_jobs=-1)]: Using backend LokyBackend with 2 concurrent workers.\n",
            "[Parallel(n_jobs=-1)]: Done  30 out of  30 | elapsed:  6.0min finished\n"
          ],
          "name": "stderr"
        },
        {
          "output_type": "execute_result",
          "data": {
            "text/plain": [
              "RandomizedSearchCV(cv=5, error_score=nan,\n",
              "                   estimator=SVR(C=1.0, cache_size=200, coef0=0.0, degree=3,\n",
              "                                 epsilon=0.1, gamma='scale', kernel='rbf',\n",
              "                                 max_iter=-1, shrinking=True, tol=0.001,\n",
              "                                 verbose=False),\n",
              "                   iid='deprecated', n_iter=6, n_jobs=-1,\n",
              "                   param_distributions=[{'C': [0.1, 1, 10],\n",
              "                                         'kernel': ['linear']},\n",
              "                                        {'C': [0.1, 1, 10],\n",
              "                                         'gamma': [0.1, 10, 100],\n",
              "                                         'kernel': ['rbf']}],\n",
              "                   pre_dispatch='2*n_jobs', random_state=None, refit=True,\n",
              "                   return_train_score=True, scoring='neg_mean_squared_error',\n",
              "                   verbose=1)"
            ]
          },
          "metadata": {
            "tags": []
          },
          "execution_count": 123
        }
      ]
    },
    {
      "cell_type": "code",
      "metadata": {
        "id": "qkl7fyKZrula",
        "outputId": "bb79030f-94ab-4f88-e41b-ccec11ac7901",
        "colab": {
          "base_uri": "https://localhost:8080/",
          "height": 34
        }
      },
      "source": [
        "np.sqrt(-svr_random_search.best_score_)"
      ],
      "execution_count": null,
      "outputs": [
        {
          "output_type": "execute_result",
          "data": {
            "text/plain": [
              "71911.49195659522"
            ]
          },
          "metadata": {
            "tags": []
          },
          "execution_count": 131
        }
      ]
    },
    {
      "cell_type": "markdown",
      "metadata": {
        "id": "h_bh7ePAofbx"
      },
      "source": [
        "### Question 3. \n",
        "\n",
        "Try adding a transformer in the preparation pipeline to select only the most important attributes.\n"
      ]
    },
    {
      "cell_type": "code",
      "metadata": {
        "id": "88MZ1pLJntPL"
      },
      "source": [
        "from sklearn.base import BaseEstimator,TransformerMixin\n",
        "\n",
        "def indices_of_top_k(arr,k):\n",
        "  return np.sort(np.argpartition(np.array(arr),-k)[-k:])\n",
        "\n",
        "class TopFeatureSelector(BaseEstimator,TransformerMixin):\n",
        "  def __init__(self,feature_importances,k):\n",
        "    self.feature_importances = feature_importances\n",
        "    self.k = k\n",
        "  \n",
        "  def fit(self,X,y=None):\n",
        "    self.feature_indices_ = indices_of_top_k(self.feature_importances,self.k)\n",
        "    return self\n",
        "  \n",
        "  def transform(self,X):\n",
        "    return X[:,self.feature_indices_]"
      ],
      "execution_count": null,
      "outputs": []
    },
    {
      "cell_type": "code",
      "metadata": {
        "id": "Hl3FwDeWuuiR"
      },
      "source": [
        "k = 5\n",
        "feature_importances = grid_search.best_estimator_.feature_importances_"
      ],
      "execution_count": null,
      "outputs": []
    },
    {
      "cell_type": "code",
      "metadata": {
        "id": "XO7F0W-auvql",
        "outputId": "562b4c6d-3aa6-4a36-a202-08012190ec1c",
        "colab": {
          "base_uri": "https://localhost:8080/",
          "height": 34
        }
      },
      "source": [
        "top_k_feature_indices = indices_of_top_k(feature_importances,k)\n",
        "top_k_feature_indices"
      ],
      "execution_count": null,
      "outputs": [
        {
          "output_type": "execute_result",
          "data": {
            "text/plain": [
              "array([ 0,  1,  7,  9, 12])"
            ]
          },
          "metadata": {
            "tags": []
          },
          "execution_count": 138
        }
      ]
    },
    {
      "cell_type": "code",
      "metadata": {
        "id": "-uOkBnipwX4U"
      },
      "source": [
        "prep_and_feature_selection_pipeline = Pipeline([\n",
        "                                                ('preparation',full_pipeline),\n",
        "                                                ('feature_selection',TopFeatureSelector(feature_importances,k))\n",
        "])"
      ],
      "execution_count": null,
      "outputs": []
    },
    {
      "cell_type": "code",
      "metadata": {
        "id": "Q0x5TvAzw5Yk"
      },
      "source": [
        "housing_prepared_k = prep_and_feature_selection_pipeline.fit_transform(housing)"
      ],
      "execution_count": null,
      "outputs": []
    },
    {
      "cell_type": "markdown",
      "metadata": {
        "id": "m9Td1P0Lxsaa"
      },
      "source": [
        "### Question 4.\n",
        "\n",
        "\n",
        "Try creating a single pipeline that does the full data preparation plus the final prediction.\n"
      ]
    },
    {
      "cell_type": "code",
      "metadata": {
        "id": "kapBSJAExCoO"
      },
      "source": [
        "prep_select_pred = Pipeline([\n",
        "                             ('prep_and_select',prep_and_feature_selection_pipeline),\n",
        "                             ('prediction',SVR(**svr_random_search.best_params_))\n",
        "])"
      ],
      "execution_count": null,
      "outputs": []
    },
    {
      "cell_type": "code",
      "metadata": {
        "id": "6Ka5fAJHyPOv",
        "outputId": "2ecc9536-38a1-4ff7-c818-30ba15f72ba9",
        "colab": {
          "base_uri": "https://localhost:8080/",
          "height": 523
        }
      },
      "source": [
        "prep_select_pred.fit(housing,housing_labels)"
      ],
      "execution_count": null,
      "outputs": [
        {
          "output_type": "execute_result",
          "data": {
            "text/plain": [
              "Pipeline(memory=None,\n",
              "         steps=[('prep_and_select',\n",
              "                 Pipeline(memory=None,\n",
              "                          steps=[('preparation',\n",
              "                                  ColumnTransformer(n_jobs=None,\n",
              "                                                    remainder='drop',\n",
              "                                                    sparse_threshold=0.3,\n",
              "                                                    transformer_weights=None,\n",
              "                                                    transformers=[('num',\n",
              "                                                                   Pipeline(memory=None,\n",
              "                                                                            steps=[('imputer',\n",
              "                                                                                    SimpleImputer(add_indicator=False,\n",
              "                                                                                                  copy=True,\n",
              "                                                                                                  fill_value=None,\n",
              "                                                                                                  missing_values=nan,\n",
              "                                                                                                  strategy='median',\n",
              "                                                                                                  verbose=0)...\n",
              "                                  TopFeatureSelector(feature_importances=array([0.08165407, 0.0744219 , 0.0390865 , 0.01809099, 0.01677526,\n",
              "       0.016659  , 0.0172133 , 0.33667606, 0.03961022, 0.10449444,\n",
              "       0.06248164, 0.01808479, 0.16610675, 0.00042469, 0.00379423,\n",
              "       0.00442615]),\n",
              "                                                     k=5))],\n",
              "                          verbose=False)),\n",
              "                ('prediction',\n",
              "                 SVR(C=10, cache_size=200, coef0=0.0, degree=3, epsilon=0.1,\n",
              "                     gamma='scale', kernel='linear', max_iter=-1,\n",
              "                     shrinking=True, tol=0.001, verbose=False))],\n",
              "         verbose=False)"
            ]
          },
          "metadata": {
            "tags": []
          },
          "execution_count": 148
        }
      ]
    },
    {
      "cell_type": "markdown",
      "metadata": {
        "id": "wlCKN-JQjFf3"
      },
      "source": [
        "## Exercise 5:\n",
        "Build a spam classifier using Apache SpamAssasin public datasets"
      ]
    },
    {
      "cell_type": "code",
      "metadata": {
        "id": "sA9jkP8uyVfK"
      },
      "source": [
        ""
      ],
      "execution_count": null,
      "outputs": []
    }
  ]
}